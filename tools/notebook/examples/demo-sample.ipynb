{
 "cells": [
  {
   "cell_type": "code",
   "execution_count": 3,
   "metadata": {},
   "outputs": [
    {
     "name": "stdout",
     "output_type": "stream",
     "text": [
      "The wstl extension is already loaded. To reload it, use:\n",
      "  %reload_ext wstl\n"
     ]
    }
   ],
   "source": [
    "%load_ext wstl"
   ]
  },
  {
   "cell_type": "code",
   "execution_count": 3,
   "metadata": {},
   "outputs": [
    {
     "data": {
      "text/markdown": [
       "\n",
       "## Load JSON data directly from Google Cloud Storage\n",
       "\n",
       "The following line magic command loads JSON data from a GCS bucket and \n",
       "allows the user to either save the results to a python variable, persist them to disk, or print the results.\n"
      ],
      "text/plain": [
       "<IPython.core.display.Markdown object>"
      ]
     },
     "metadata": {},
     "output_type": "display_data"
    }
   ],
   "source": [
    "%%markdown\n",
    "\n",
    "## Load JSON data directly from Google Cloud Storage\n",
    "\n",
    "The following line magic command loads JSON data from a GCS bucket and \n",
    "allows the user to either save the results to a python variable, persist them to disk, or print the results."
   ]
  },
  {
   "cell_type": "code",
   "execution_count": 4,
   "metadata": {},
   "outputs": [
    {
     "data": {
      "text/plain": [
       "\u001b[0;31mDocstring:\u001b[0m\n",
       "::\n",
       "\n",
       "  %load_hl7v2_gcs --bucket_name BUCKET_NAME --source_blob_name\n",
       "                      SOURCE_BLOB_NAME [--dest_file_name DEST_FILE_NAME]\n",
       "\n",
       "Load and return parsed HL7v2 massage from the blob in a GCS bucket specified.\n",
       "\n",
       "optional arguments:\n",
       "  --bucket_name BUCKET_NAME\n",
       "                        The name of the GCS bucket to load data from.\n",
       "  --source_blob_name SOURCE_BLOB_NAME\n",
       "                        The name of the blob to load.\n",
       "  --dest_file_name DEST_FILE_NAME\n",
       "                        The destination file path to store the loaded data. If\n",
       "                        not provided, the result will be directly returned to\n",
       "                        the IPython kernel.\n",
       "\u001b[0;31mFile:\u001b[0m      /opt/conda/lib/python3.7/site-packages/wstl/magics/wstl.py\n"
      ]
     },
     "metadata": {},
     "output_type": "display_data"
    }
   ],
   "source": [
    "%load_hl7v2_gcs?"
   ]
  },
  {
   "cell_type": "code",
   "execution_count": 11,
   "metadata": {},
   "outputs": [
    {
     "data": {
      "application/json": {
       "ADT_A01": {
        "MSH": {
         "0": "MSH",
         "1": "|",
         "10": "7",
         "11": {
          "1": "T",
          "2": "11.2-processing"
         },
         "12": {
          "1": "2.3"
         },
         "13": null,
         "14": null,
         "15": "AL",
         "16": null,
         "17": "44",
         "18": [
          "ASCII"
         ],
         "19": {
          "1": "ENG"
         },
         "2": "^~\\&",
         "20": null,
         "21": null,
         "22": {
          "1": "Resposible - YIEWSLEY FAMILY PRACTICE",
          "2": null,
          "3": "6010",
          "4": null,
          "5": null,
          "6": null,
          "7": "RCode"
         },
         "23": {
          "1": "Reciever - YIEWSLEY FAMILY PRACTICE",
          "2": null,
          "3": "6010",
          "4": null,
          "5": null,
          "6": null,
          "7": "DCode"
         },
         "3": {
          "1": "CERNER",
          "2": "3.2-two",
          "3": "URI"
         },
         "4": {
          "1": "RAL",
          "2": "4.2-two",
          "3": "UUID"
         },
         "5": {
          "1": "STREAMS"
         },
         "6": {
          "1": "RAL",
          "2": "6.2-two",
          "3": "ISO"
         },
         "7": "20190309130156",
         "8": "8-Security",
         "9": {
          "1": "ADT",
          "2": "A01",
          "3": "9.3-DEF"
         }
        }
       }
      },
      "text/plain": [
       "<IPython.core.display.JSON object>"
      ]
     },
     "execution_count": 11,
     "metadata": {
      "application/json": {
       "expanded": false,
       "root": "root"
      }
     },
     "output_type": "execute_result"
    }
   ],
   "source": [
    "%load_hl7v2_gcs --bucket_name data-harmonization-sample-data --source_blob_name hl7v2_fhir_stu3/adt_a01_msh.hl7.fhir.input.json"
   ]
  },
  {
   "cell_type": "code",
   "execution_count": 8,
   "metadata": {},
   "outputs": [
    {
     "data": {
      "text/markdown": [
       "\n",
       "## Evaluate whistle mapping language\n",
       "* allows the user to execute whistle mapping language scripts and to immediately see the result of executing the script\n",
       "* result can be displayed in output or stored into a python variable.\n",
       "* inputs and library configs can be read from local filesystem or Google Cloud Storage\n",
       "* outputs a FHIR transaction bundle\n"
      ],
      "text/plain": [
       "<IPython.core.display.Markdown object>"
      ]
     },
     "metadata": {},
     "output_type": "display_data"
    }
   ],
   "source": [
    "%%markdown\n",
    "\n",
    "## Evaluate whistle mapping language\n",
    "* allows the user to execute whistle mapping language scripts and to immediately see the result of executing the script\n",
    "* result can be displayed in output or stored into a python variable.\n",
    "* inputs and library configs can be read from local filesystem or Google Cloud Storage\n",
    "* outputs a FHIR transaction bundle"
   ]
  },
  {
   "cell_type": "code",
   "execution_count": 9,
   "metadata": {},
   "outputs": [
    {
     "data": {
      "text/plain": [
       "\u001b[0;31mDocstring:\u001b[0m\n",
       "::\n",
       "\n",
       "  %wstl [--input INPUT] [--library_config LIBRARY_CONFIG]\n",
       "            [--code_config CODE_CONFIG] [--unit_config UNIT_CONFIG]\n",
       "            [--output OUTPUT]\n",
       "\n",
       "Cell magic to evaluate whistle mapping language from iPython kernel.\n",
       "\n",
       "optional arguments:\n",
       "  --input INPUT         The input. Supports the following prefix notations:\n",
       "                        py://<name_of_python_variable>\n",
       "                        json://<inline_json_object_or_array> : python inline\n",
       "                        dict and list expressions are supported. e.g.\n",
       "                        json://{\"field\":\"value\"} or\n",
       "                        json://[{\"first\":\"value\"},{\"second\":\"value\"}]\n",
       "                        file://<path_to_local_file_system> , supports glob\n",
       "                        wildcard expressions and will only load .json or\n",
       "                        .ndjson file extensions. Each json object/list defined\n",
       "                        within an ndjson will be a separate input to the\n",
       "                        mapping.\n",
       "  --library_config LIBRARY_CONFIG\n",
       "                        Path to the directory where the library mapping files\n",
       "                        are located.\n",
       "  --code_config CODE_CONFIG\n",
       "                        Path to the directory of FHIR ConceptMaps used for\n",
       "                        code harmonization.\n",
       "  --unit_config UNIT_CONFIG\n",
       "                        Path to a unit harmonization file (textproto).\n",
       "  --output OUTPUT       Name of python variable to store result. e.g. --output\n",
       "                        temp_var\n",
       "\u001b[0;31mFile:\u001b[0m      /opt/conda/lib/python3.7/site-packages/wstl/magics/wstl.py\n"
      ]
     },
     "metadata": {},
     "output_type": "display_data"
    }
   ],
   "source": [
    "%%wstl?"
   ]
  },
  {
   "cell_type": "code",
   "execution_count": 14,
   "metadata": {},
   "outputs": [
    {
     "data": {
      "text/markdown": [
       "\n",
       "### Reads from the file system mounted into the docker container.\n"
      ],
      "text/plain": [
       "<IPython.core.display.Markdown object>"
      ]
     },
     "metadata": {},
     "output_type": "display_data"
    }
   ],
   "source": [
    "%%markdown\n",
    "\n",
    "### Reads from the file system mounted into the docker container."
   ]
  },
  {
   "cell_type": "code",
   "execution_count": 10,
   "metadata": {},
   "outputs": [
    {
     "data": {
      "text/plain": [
       "'no inputs matching arguement file://~/mapping_configs/hl7v2_fhir_stu3/adt_a01_msh.hl7.fhir.input.json'"
      ]
     },
     "execution_count": 10,
     "metadata": {},
     "output_type": "execute_result"
    }
   ],
   "source": [
    "%%wstl --output resources --input file://~/mapping_configs/hl7v2_fhir_stu3/adt_a01_msh.hl7.fhir.input.json --library_config file://~/mapping_configs/hl7v2_fhir_stu3/projector_library/*.wstl\n",
    "\n",
    "$this : Process_ADT_A01($root.ADT_A01);\n",
    "\n",
    "// Description: Define HL7v2 (version 2.9) to FHIR STU3 transformation\n",
    "//\n",
    "// Argument(s):\n",
    "//   ADT_A01 HL7v2 Message Type (version 2.9)\n",
    "//   ADT_A01 Segments covered in this mapping configuration are: MSH\n",
    "//\n",
    "// Output(s):\n",
    "//   FHIR STU3 Resources : http://www.hl7.org/fhir/stu3/resourcelist.html\n",
    "// List of Generated FHIR Resources:\n",
    "//   Bundle: https://www.hl7.org/fhir/stu3/bundle.html\n",
    "\n",
    "def Process_ADT_A01(ADT_A01) {\n",
    "  var MH : MSH_MessageHeader(ADT_A01.MSH);\n",
    "  out Resources : MH;\n",
    "  out Resources : HD_Provenance(ADT_A01.MSH.3, MH);\n",
    "  out Resources : MSH_Bundle(ADT_A01.MSH.10);\n",
    "}\n",
    "\n",
    "// post Output_Transaction\n"
   ]
  },
  {
   "cell_type": "code",
   "execution_count": 4,
   "metadata": {},
   "outputs": [
    {
     "data": {
      "text/markdown": [
       "\n",
       "### Reads from Google Cloud Storage\n"
      ],
      "text/plain": [
       "<IPython.core.display.Markdown object>"
      ]
     },
     "metadata": {},
     "output_type": "display_data"
    }
   ],
   "source": [
    "%%markdown\n",
    "\n",
    "### Reads from Google Cloud Storage"
   ]
  },
  {
   "cell_type": "code",
   "execution_count": 3,
   "metadata": {},
   "outputs": [
    {
     "data": {
      "application/json": {
       "Resources": [
        {
         "address": [
          {
           "country": "44"
          }
         ],
         "id": "e4ff1da8-d75d-4be2-9c72-4b523785a9b9",
         "identifier": [
          {
           "value": "RAL"
          },
          {
           "system": "urn:ietf:rfc:3986",
           "type": {
            "coding": [
             {
              "code": "UUID",
              "system": "http://terminology.hl7.org/CodeSystem/v2-0301"
             }
            ]
           },
           "value": "4.2-two"
          }
         ],
         "resourceType": "Organization"
        },
        {
         "id": "ca1ae635-4b25-479b-8821-aeb15e2f69cd",
         "identifier": [
          {
           "type": {
            "coding": [
             {
              "code": "DCode",
              "system": "http://terminology.hl7.org/CodeSystem/v2-0203"
             }
            ]
           },
           "value": "6010"
          }
         ],
         "name": "Reciever - YIEWSLEY FAMILY PRACTICE",
         "resourceType": "Organization"
        },
        {
         "id": "21ba198c-cc6e-433e-be63-128f219679fe",
         "identifier": [
          {
           "type": {
            "coding": [
             {
              "code": "RCode",
              "system": "http://terminology.hl7.org/CodeSystem/v2-0203"
             }
            ]
           },
           "value": "6010"
          }
         ],
         "name": "Resposible - YIEWSLEY FAMILY PRACTICE",
         "resourceType": "Organization"
        },
        {
         "destination": [
          {
           "endpoint": "RAL",
           "name": "STREAMS"
          }
         ],
         "event": {
          "code": "A01",
          "system": "http://terminology.hl7.org/CodeSystem/v2-0003"
         },
         "id": "96b0a652-0daa-48d6-9e2f-521c7f010fb7",
         "language": "ENG",
         "meta": {
          "security": [
           {
            "code": "8-Security"
           }
          ],
          "tag": [
           {
            "code": "T",
            "system": "http://terminology.hl7.org/CodeSystem/v2-0103"
           },
           {
            "code": "11.2-processing",
            "system": "http://terminology.hl7.org/CodeSystem/v2-0207"
           }
          ]
         },
         "receiver": {
          "reference": "Organization/ca1ae635-4b25-479b-8821-aeb15e2f69cd"
         },
         "resourceType": "MessageHeader",
         "responsible": {
          "reference": "Organization/21ba198c-cc6e-433e-be63-128f219679fe"
         },
         "sender": {
          "reference": "Organization/e4ff1da8-d75d-4be2-9c72-4b523785a9b9"
         },
         "source": {
          "endpoint": "3.2-two",
          "name": "CERNER"
         },
         "timestamp": "2019-03-09T13:01:56.9339Z"
        },
        {
         "id": "9891aeef-fe51-4b6b-a9bd-409b481c5bda",
         "identifier": [
          {
           "value": "CERNER"
          }
         ],
         "resourceType": "Device"
        },
        {
         "agent": [
          {
           "whoReference": {
            "reference": "Device/9891aeef-fe51-4b6b-a9bd-409b481c5bda"
           }
          }
         ],
         "id": "5b4f8f56-64a8-4319-92e3-454539bccb4a",
         "recorded": "2019-03-09T13:01:56.9339Z",
         "resourceType": "Provenance",
         "target": [
          {
           "reference": "MessageHeader/96b0a652-0daa-48d6-9e2f-521c7f010fb7"
          }
         ]
        },
        {
         "id": "7abf0557-e956-4382-ba00-975fe7d553af",
         "identifier": {
          "value": "7"
         },
         "resourceType": "Bundle",
         "type": "message"
        }
       ]
      },
      "text/plain": [
       "<IPython.core.display.JSON object>"
      ]
     },
     "execution_count": 3,
     "metadata": {
      "application/json": {
       "expanded": false,
       "root": "root"
      }
     },
     "output_type": "execute_result"
    }
   ],
   "source": [
    "%%wstl --output resources --input gs://data-harmonization-sample-data/hl7v2_fhir_stu3/adt_a01_msh.hl7.fhir.input.json --library_config gs://data-harmonization-sample-data/hl7v2_fhir_stu3/projector_library/*.wstl\n",
    "\n",
    "$this : Process_ADT_A01($root.ADT_A01);\n",
    "    \n",
    "// Description: Define HL7v2 (version 2.9) to FHIR STU3 transformation\n",
    "//\n",
    "// Argument(s):\n",
    "//   ADT_A01 HL7v2 Message Type (version 2.9)\n",
    "//   ADT_A01 Segments covered in this mapping configuration are: MSH\n",
    "//\n",
    "// Output(s):\n",
    "//   FHIR STU3 Resources : http://www.hl7.org/fhir/stu3/resourcelist.html\n",
    "// List of Generated FHIR Resources:\n",
    "//   Bundle: https://www.hl7.org/fhir/stu3/bundle.html\n",
    "\n",
    "def Process_ADT_A01(ADT_A01) {\n",
    "  var MH : MSH_MessageHeader(ADT_A01.MSH);\n",
    "  out Resources : MH;\n",
    "  out Resources : HD_Provenance(ADT_A01.MSH.3, MH);\n",
    "  out Resources : MSH_Bundle(ADT_A01.MSH.10);\n",
    "}"
   ]
  },
  {
   "cell_type": "code",
   "execution_count": 18,
   "metadata": {},
   "outputs": [
    {
     "data": {
      "text/markdown": [
       "\n",
       "### Mappings for ADT_A01 PID and PD1 segments\n"
      ],
      "text/plain": [
       "<IPython.core.display.Markdown object>"
      ]
     },
     "metadata": {},
     "output_type": "display_data"
    }
   ],
   "source": [
    "%%markdown\n",
    "\n",
    "### Mappings for ADT_A01 PID and PD1 segments"
   ]
  },
  {
   "cell_type": "code",
   "execution_count": 4,
   "metadata": {},
   "outputs": [
    {
     "data": {
      "application/json": {
       "Resources": [
        {
         "id": "ba78d9a6-73e2-4a29-a539-ce180700079d",
         "identifier": [
          {
           "type": {
            "coding": [
             {
              "code": "CLN",
              "system": "http://terminology.hl7.org/CodeSystem/v2-0203"
             }
            ]
           },
           "value": "6020"
          }
         ],
         "name": "YIEWSLEY FAMILY PRACTICE",
         "resourceType": "Organization"
        },
        {
         "id": "a3054412-99b9-4321-be6e-527b24b2761e",
         "identifier": [
          {
           "type": {
            "coding": [
             {
              "code": "CC"
             }
            ]
           },
           "value": "C184726198"
          }
         ],
         "name": [
          {
           "family": "Connell",
           "given": [
            "Alistair",
            "Alex"
           ],
           "period": {
            "end": "2018-07-25T14:01:56+07:00",
            "start": "2018-07-25T14:01:56+07:00"
           },
           "prefix": [
            "Dr"
           ],
           "suffix": [
            "Sr",
            "MD",
            "MSc."
           ],
           "use": "official"
          }
         ],
         "resourceType": "Practitioner"
        },
        {
         "active": true,
         "address": [
          {
           "city": "Croydon",
           "country": "GBR",
           "line": [
            "25 Dahlia House",
            "Plough Avenue",
            "Some Guy"
           ],
           "period": {
            "end": "2018-07-25T14:01:56+07:00",
            "start": "2018-07-25T14:01:56+07:00"
           },
           "postalCode": "SV20 3BC",
           "state": "N/A"
          }
         ],
         "birthDate": "1994-06-15",
         "deceasedDateTime": "2018-07-25T14:01:56+07:00",
         "gender": "unknown",
         "generalPractitioner": [
          {
           "reference": "Organization/ba78d9a6-73e2-4a29-a539-ce180700079d"
          },
          {
           "reference": "Practitioner/a3054412-99b9-4321-be6e-527b24b2761e"
          }
         ],
         "id": "ff8d6232-4380-4795-aa95-21cd46d18fd4",
         "identifier": [
          {
           "type": {
            "coding": [
             {
              "code": "MRN"
             }
            ]
           },
           "value": "1419055458"
          },
          {
           "type": {
            "coding": [
             {
              "code": "MRN"
             }
            ]
           },
           "value": "1419055458"
          },
          {
           "type": {
            "coding": [
             {
              "code": "NHSNMBR"
             }
            ]
           },
           "value": "3870146052"
          },
          {
           "type": {
            "coding": [
             {
              "code": "MRN4"
             }
            ]
           },
           "value": "1419055459"
          },
          {
           "type": {
            "coding": [
             {
              "code": "SB"
             }
            ]
           },
           "value": "SSN-48383"
          },
          {
           "type": {
            "coding": [
             {
              "code": "DL"
             }
            ]
           },
           "value": "43211234"
          }
         ],
         "maritalStatus": {
          "coding": [
           {
            "code": "MARRIED"
           }
          ]
         },
         "meta": {
          "lastUpdated": "2018-07-25T14:01:56+07:00"
         },
         "multipleBirthInteger": 2,
         "name": [
          {
           "family": "Doe",
           "given": [
            "Jane",
            "Janny"
           ],
           "period": {
            "end": "2018-07-25T14:01:56+07:00",
            "start": "2018-07-25T14:01:56+07:00"
           },
           "prefix": [
            "Miss"
           ],
           "suffix": [
            "Jr",
            "PhD",
            "Eng."
           ],
           "use": "anonymous"
          },
          {
           "family": "Al-Doe",
           "given": [
            "Al-Jane",
            "Al-Janny"
           ],
           "period": {
            "end": "2018-07-25T14:01:56+07:00",
            "start": "2018-07-25T14:01:56+07:00"
           },
           "prefix": [
            "Al-Miss"
           ],
           "suffix": [
            "Al-Jr",
            "Al-PhD",
            "Al-Eng."
           ],
           "use": "anonymous"
          }
         ],
         "resourceType": "Patient",
         "telecom": [
          {
           "use": "home",
           "value": "020 0921 5742"
          },
          {
           "use": "work",
           "value": "020 0921 5748"
          },
          {
           "use": "home",
           "value": "020 0921 5700"
          }
         ]
        },
        {
         "id": "56b184ba-7d13-4a8c-bf60-be5bfb36c6fe",
         "identifier": [
          {
           "value": "1419055678"
          }
         ],
         "resourceType": "Account",
         "subject": {
          "reference": "Patient/ff8d6232-4380-4795-aa95-21cd46d18fd4"
         }
        }
       ]
      },
      "text/plain": [
       "<IPython.core.display.JSON object>"
      ]
     },
     "execution_count": 4,
     "metadata": {
      "application/json": {
       "expanded": false,
       "root": "root"
      }
     },
     "output_type": "execute_result"
    }
   ],
   "source": [
    "%%wstl --output resources --input file://~/mapping_configs/hl7v2_fhir_stu3/adt_a01_pid_pd1.hl7.fhir.input.json --library_config file://~/mapping_configs/hl7v2_fhir_stu3/projector_library/*.wstl --code_config file://~/mapping_configs/hl7v2_fhir_stu3/code_harmonization/*.json\n",
    "\n",
    "$this : Process_ADT_A01($root.ADT_A01);\n",
    "\n",
    "// Description: Define HL7v2 (version 2.9) to FHIR STU3 transformation\n",
    "//\n",
    "// Argument(s):\n",
    "//   ADT_A01 HL7v2 Message Type (version 2.9)\n",
    "//   ADT_A01 Segments covered in this mapping configuration are: PID, PD1,\n",
    "//\n",
    "// Output(s):\n",
    "//   FHIR STU3 Resources : http://www.hl7.org/fhir/stu3/resourcelist.html\n",
    "// List of Generated FHIR Resources:\n",
    "//   Account: https://www.hl7.org/fhir/stu3/account.html\n",
    "//   Organization: https://www.hl7.org/fhir/stu3/organization.html\n",
    "//   Patient: https://www.hl7.org/fhir/stu3/patient.html\n",
    "//   Practitioner: https://www.hl7.org/fhir/stu3/practitioner.html\n",
    "//\n",
    "def Process_ADT_A01(ADT_A01) {\n",
    "  var Patient : PID_PD1_Patient(ADT_A01.PID, ADT_A01.PD1);\n",
    "  out Resources : Patient;\n",
    "  out Resources : PID_Account(ADT_A01.PID.18, Patient);\n",
    "}"
   ]
  },
  {
   "cell_type": "code",
   "execution_count": 20,
   "metadata": {},
   "outputs": [
    {
     "data": {
      "text/markdown": [
       "\n",
       "## Load Data from HL7v2Store\n",
       "The following line magic command allows you to load data directly from a HL7v2Store and store the results either in a python variable or persist them to disk. \n",
       "You will manually need to do the following:\n",
       "    \n",
       "* Create an [HL7v2 store](https://cloud.google.com/healthcare/docs/how-tos/hl7v2#creating_an_hl7v2_store) on Google Cloud with \n",
       "[schematize parsing](https://cloud.google.com/healthcare/docs/reference/rest/v1beta1/projects.locations.datasets.hl7V2Stores#schematizedparsingtype) enabled. \n",
       "For example, the \"schematizedParsingType\" attribute set to \"SOFT_FAIL\" and the \"ignoreMinOccurs\" attribute set to true.\n",
       "The schematized parsing options enable the store to generated a structured JSON representatio of HL7v2 messages similar to the the example representations\n",
       "above. \n",
       "* [Add HL7v2 messages](https://cloud.google.com/healthcare/docs/how-tos/hl7v2-messages) to the store.\n",
       "* Update the magic command in the cell below with the appropiate store details.\n"
      ],
      "text/plain": [
       "<IPython.core.display.Markdown object>"
      ]
     },
     "metadata": {},
     "output_type": "display_data"
    }
   ],
   "source": [
    "%%markdown\n",
    "\n",
    "## Load Data from HL7v2Store\n",
    "The following line magic command allows you to load data directly from a HL7v2Store and store the results either in a python variable or persist them to disk. \n",
    "You will manually need to do the following:\n",
    "    \n",
    "* Create an [HL7v2 store](https://cloud.google.com/healthcare/docs/how-tos/hl7v2#creating_an_hl7v2_store) on Google Cloud with \n",
    "[schematize parsing](https://cloud.google.com/healthcare/docs/reference/rest/v1beta1/projects.locations.datasets.hl7V2Stores#schematizedparsingtype) enabled. \n",
    "For example, the \"schematizedParsingType\" attribute set to \"SOFT_FAIL\" and the \"ignoreMinOccurs\" attribute set to true.\n",
    "The schematized parsing options enable the store to generated a structured JSON representatio of HL7v2 messages similar to the the example representations\n",
    "above. \n",
    "* [Add HL7v2 messages](https://cloud.google.com/healthcare/docs/how-tos/hl7v2-messages) to the store.\n",
    "* Update the magic command in the cell below with the appropiate store details."
   ]
  },
  {
   "cell_type": "code",
   "execution_count": 21,
   "metadata": {},
   "outputs": [
    {
     "data": {
      "text/plain": [
       "\u001b[0;31mDocstring:\u001b[0m\n",
       "::\n",
       "\n",
       "  %load_hl7v2_datastore --project_id PROJECT_ID --region REGION\n",
       "                            --dataset_id DATASET_ID --hl7v2_store_id\n",
       "                            HL7V2_STORE_ID [--api_version {v1,v1beta1}]\n",
       "                            [--filter FILTER]\n",
       "                            [--dest_file_name DEST_FILE_NAME]\n",
       "\n",
       "Load parsed HL7v2 massage from the HL7v2 Store specified.\n",
       "\n",
       "optional arguments:\n",
       "  --project_id PROJECT_ID\n",
       "                        ID of the GCP project that the HL7v2 Store belongs to.\n",
       "  --region REGION       Region of the HL7v2 Store.\n",
       "  --dataset_id DATASET_ID\n",
       "                        ID of the dataset that the HL7v2 store belongs to.\n",
       "  --hl7v2_store_id HL7V2_STORE_ID\n",
       "                        ID of the HL7v2 store to load data from.\n",
       "  --api_version <{v1,v1beta1}>\n",
       "                        The version of healthcare api to call. Default to v1.\n",
       "  --filter FILTER       filter: string, Restricts messages returned to those\n",
       "                        matching a filter. Syntax: https://cloud.google.com/ap\n",
       "                        pengine/docs/standard/python/search/query_strings\n",
       "                        Fields/functions available for filtering are: *\n",
       "                        `message_type`, from the MSH-9.1 field. For example,\n",
       "                        `NOT message_type = \"ADT\"`. * `send_date` or\n",
       "                        `sendDate`, the YYYY-MM-DD date the message was sent\n",
       "                        in the dataset's time_zone, from the MSH-7 segment.\n",
       "                        For example, `send_date < \"2017-01-02\"`. *\n",
       "                        `send_time`, the timestamp when the message was sent,\n",
       "                        using the RFC3339 time format for comparisons, from\n",
       "                        the MSH-7 segment. For example, `send_time <\n",
       "                        \"2017-01-02T00:00:00-05:00\"`. * `send_facility`, the\n",
       "                        care center that the message came from, from the MSH-4\n",
       "                        segment. For example, `send_facility = \"ABC\"`. *\n",
       "                        `PatientId(value, type)`, which matches if the message\n",
       "                        lists a patient having an ID of the given value and\n",
       "                        type in the PID-2, PID-3, or PID-4 segments. For\n",
       "                        example, `PatientId(\"123456\", \"MRN\")`. * `labels.x`, a\n",
       "                        string value of the label with key `x` as set using\n",
       "                        the Message.labels map. For example,\n",
       "                        `labels.\"priority\"=\"high\"`. The operator `:*` can be\n",
       "                        used to assert the existence of a label. For example,\n",
       "                        `labels.\"priority\":*`.\n",
       "  --dest_file_name DEST_FILE_NAME\n",
       "                        The destination file path to store the loaded data. If\n",
       "                        not provided, the result will be directly returned to\n",
       "                        the IPython kernel.\n",
       "\u001b[0;31mFile:\u001b[0m      /opt/conda/lib/python3.7/site-packages/wstl/magics/wstl.py\n"
      ]
     },
     "metadata": {},
     "output_type": "display_data"
    }
   ],
   "source": [
    "%load_hl7v2_datastore?"
   ]
  },
  {
   "cell_type": "code",
   "execution_count": null,
   "metadata": {},
   "outputs": [],
   "source": [
    "# uncomment, replace all the labels in square brackets, and execute the following cell magic command\n",
    "# hl7v2_store_messages = %load_hl7v2_datastore --project_id [PROJECT_ID] --region [REGION] --dataset_id [DATASET] --hl7v2_store_id [STORE_ID]"
   ]
  },
  {
   "cell_type": "code",
   "execution_count": null,
   "metadata": {},
   "outputs": [],
   "source": [
    "import json\n",
    "parsed_messages = [json.loads(x['schematizedData']['data']) for x in hl7v2_store_messages.data]\n",
    "\n",
    "from IPython.display import JSON\n",
    "parsed_message = parsed_messages[0]\n",
    "JSON(parsed_message)"
   ]
  },
  {
   "cell_type": "code",
   "execution_count": 4,
   "metadata": {},
   "outputs": [
    {
     "data": {
      "text/markdown": [
       "\n",
       "### Reads from python variable previous defined in cell\n"
      ],
      "text/plain": [
       "<IPython.core.display.Markdown object>"
      ]
     },
     "metadata": {},
     "output_type": "display_data"
    }
   ],
   "source": [
    "%%markdown\n",
    "\n",
    "### Reads from python variable previous defined in cell"
   ]
  },
  {
   "cell_type": "code",
   "execution_count": 5,
   "metadata": {},
   "outputs": [
    {
     "ename": "ValueError",
     "evalue": "There is no python variable named parsed_message",
     "output_type": "error",
     "traceback": [
      "\u001b[0;31m---------------------------------------------------------------------------\u001b[0m",
      "\u001b[0;31mValueError\u001b[0m                                Traceback (most recent call last)",
      "\u001b[0;32m<ipython-input-5-287ffb1a2ce8>\u001b[0m in \u001b[0;36m<module>\u001b[0;34m\u001b[0m\n\u001b[0;32m----> 1\u001b[0;31m \u001b[0mget_ipython\u001b[0m\u001b[0;34m(\u001b[0m\u001b[0;34m)\u001b[0m\u001b[0;34m.\u001b[0m\u001b[0mrun_cell_magic\u001b[0m\u001b[0;34m(\u001b[0m\u001b[0;34m'wstl'\u001b[0m\u001b[0;34m,\u001b[0m \u001b[0;34m'--output resources --input py://parsed_message --library_config file://~/mapping_configs/hl7v2_fhir_stu3/projector_library/*.wstl'\u001b[0m\u001b[0;34m,\u001b[0m \u001b[0;34m'\\n$this : Process_ORU_R01($root.ORU_R01);\\n    \\n// Description: Define HL7v2 (version 2.9) to FHIR STU3 transformation\\n//\\n// Argument(s):\\n//   ORU_R01 HL7v2 Message Type (version 2.9)\\n//   ORU_R01 Segments covered in this mapping configuration are: MSH\\n//\\n// Output(s):\\n//   FHIR STU3 Resources : http://www.hl7.org/fhir/stu3/resourcelist.html\\n// List of Generated FHIR Resources:\\n//   Bundle: https://www.hl7.org/fhir/stu3/bundle.html\\n\\ndef Process_ORU_R01(ORU_R01) {\\n  var MH : MSH_MessageHeader(ORU_R01.MSH);\\n  out Resources : MH;\\n  out Resources : HD_Provenance(ORU_R01.MSH.3, MH);\\n  out Resources : MSH_Bundle(ORU_R01.MSH.10);\\n}\\n'\u001b[0m\u001b[0;34m)\u001b[0m\u001b[0;34m\u001b[0m\u001b[0;34m\u001b[0m\u001b[0m\n\u001b[0m",
      "\u001b[0;32m/opt/conda/lib/python3.7/site-packages/IPython/core/interactiveshell.py\u001b[0m in \u001b[0;36mrun_cell_magic\u001b[0;34m(self, magic_name, line, cell)\u001b[0m\n\u001b[1;32m   2380\u001b[0m             \u001b[0;32mwith\u001b[0m \u001b[0mself\u001b[0m\u001b[0;34m.\u001b[0m\u001b[0mbuiltin_trap\u001b[0m\u001b[0;34m:\u001b[0m\u001b[0;34m\u001b[0m\u001b[0;34m\u001b[0m\u001b[0m\n\u001b[1;32m   2381\u001b[0m                 \u001b[0margs\u001b[0m \u001b[0;34m=\u001b[0m \u001b[0;34m(\u001b[0m\u001b[0mmagic_arg_s\u001b[0m\u001b[0;34m,\u001b[0m \u001b[0mcell\u001b[0m\u001b[0;34m)\u001b[0m\u001b[0;34m\u001b[0m\u001b[0;34m\u001b[0m\u001b[0m\n\u001b[0;32m-> 2382\u001b[0;31m                 \u001b[0mresult\u001b[0m \u001b[0;34m=\u001b[0m \u001b[0mfn\u001b[0m\u001b[0;34m(\u001b[0m\u001b[0;34m*\u001b[0m\u001b[0margs\u001b[0m\u001b[0;34m,\u001b[0m \u001b[0;34m**\u001b[0m\u001b[0mkwargs\u001b[0m\u001b[0;34m)\u001b[0m\u001b[0;34m\u001b[0m\u001b[0;34m\u001b[0m\u001b[0m\n\u001b[0m\u001b[1;32m   2383\u001b[0m             \u001b[0;32mreturn\u001b[0m \u001b[0mresult\u001b[0m\u001b[0;34m\u001b[0m\u001b[0;34m\u001b[0m\u001b[0m\n\u001b[1;32m   2384\u001b[0m \u001b[0;34m\u001b[0m\u001b[0m\n",
      "\u001b[0;32m<decorator-gen-120>\u001b[0m in \u001b[0;36mwstl\u001b[0;34m(self, line, cell)\u001b[0m\n",
      "\u001b[0;32m/opt/conda/lib/python3.7/site-packages/IPython/core/magic.py\u001b[0m in \u001b[0;36m<lambda>\u001b[0;34m(f, *a, **k)\u001b[0m\n\u001b[1;32m    185\u001b[0m     \u001b[0;31m# but it's overkill for just that one bit of state.\u001b[0m\u001b[0;34m\u001b[0m\u001b[0;34m\u001b[0m\u001b[0;34m\u001b[0m\u001b[0m\n\u001b[1;32m    186\u001b[0m     \u001b[0;32mdef\u001b[0m \u001b[0mmagic_deco\u001b[0m\u001b[0;34m(\u001b[0m\u001b[0marg\u001b[0m\u001b[0;34m)\u001b[0m\u001b[0;34m:\u001b[0m\u001b[0;34m\u001b[0m\u001b[0;34m\u001b[0m\u001b[0m\n\u001b[0;32m--> 187\u001b[0;31m         \u001b[0mcall\u001b[0m \u001b[0;34m=\u001b[0m \u001b[0;32mlambda\u001b[0m \u001b[0mf\u001b[0m\u001b[0;34m,\u001b[0m \u001b[0;34m*\u001b[0m\u001b[0ma\u001b[0m\u001b[0;34m,\u001b[0m \u001b[0;34m**\u001b[0m\u001b[0mk\u001b[0m\u001b[0;34m:\u001b[0m \u001b[0mf\u001b[0m\u001b[0;34m(\u001b[0m\u001b[0;34m*\u001b[0m\u001b[0ma\u001b[0m\u001b[0;34m,\u001b[0m \u001b[0;34m**\u001b[0m\u001b[0mk\u001b[0m\u001b[0;34m)\u001b[0m\u001b[0;34m\u001b[0m\u001b[0;34m\u001b[0m\u001b[0m\n\u001b[0m\u001b[1;32m    188\u001b[0m \u001b[0;34m\u001b[0m\u001b[0m\n\u001b[1;32m    189\u001b[0m         \u001b[0;32mif\u001b[0m \u001b[0mcallable\u001b[0m\u001b[0;34m(\u001b[0m\u001b[0marg\u001b[0m\u001b[0;34m)\u001b[0m\u001b[0;34m:\u001b[0m\u001b[0;34m\u001b[0m\u001b[0;34m\u001b[0m\u001b[0m\n",
      "\u001b[0;32m/opt/conda/lib/python3.7/site-packages/wstl/magics/wstl.py\u001b[0m in \u001b[0;36mwstl\u001b[0;34m(self, line, cell)\u001b[0m\n\u001b[1;32m    114\u001b[0m        \u001b[0merr\u001b[0m\u001b[0;34m)\u001b[0m \u001b[0;34m=\u001b[0m \u001b[0m_get_incremental_transform\u001b[0m\u001b[0;34m(\u001b[0m\u001b[0mstub\u001b[0m\u001b[0;34m,\u001b[0m \u001b[0mself\u001b[0m\u001b[0;34m.\u001b[0m\u001b[0mshell\u001b[0m\u001b[0;34m,\u001b[0m\u001b[0;34m\u001b[0m\u001b[0;34m\u001b[0m\u001b[0m\n\u001b[1;32m    115\u001b[0m                                          \u001b[0mincremental_session\u001b[0m\u001b[0;34m.\u001b[0m\u001b[0msession_id\u001b[0m\u001b[0;34m,\u001b[0m \u001b[0margs\u001b[0m\u001b[0;34m,\u001b[0m\u001b[0;34m\u001b[0m\u001b[0;34m\u001b[0m\u001b[0m\n\u001b[0;32m--> 116\u001b[0;31m                                          cell)\n\u001b[0m\u001b[1;32m    117\u001b[0m       \u001b[0;32mif\u001b[0m \u001b[0merr\u001b[0m\u001b[0;34m:\u001b[0m\u001b[0;34m\u001b[0m\u001b[0;34m\u001b[0m\u001b[0m\n\u001b[1;32m    118\u001b[0m         \u001b[0;32mreturn\u001b[0m \u001b[0merr\u001b[0m\u001b[0;34m\u001b[0m\u001b[0;34m\u001b[0m\u001b[0m\n",
      "\u001b[0;32m/opt/conda/lib/python3.7/site-packages/wstl/magics/wstl.py\u001b[0m in \u001b[0;36m_get_incremental_transform\u001b[0;34m(stub, shell, session_id, wstl_args, cell)\u001b[0m\n\u001b[1;32m    393\u001b[0m         \u001b[0mwstl_args\u001b[0m\u001b[0;34m.\u001b[0m\u001b[0minput\u001b[0m\u001b[0;34m,\u001b[0m\u001b[0;34m\u001b[0m\u001b[0;34m\u001b[0m\u001b[0m\n\u001b[1;32m    394\u001b[0m         \u001b[0mfile_ext\u001b[0m\u001b[0;34m=\u001b[0m\u001b[0m_constants\u001b[0m\u001b[0;34m.\u001b[0m\u001b[0mJSON_FILE_EXT\u001b[0m\u001b[0;34m,\u001b[0m\u001b[0;34m\u001b[0m\u001b[0;34m\u001b[0m\u001b[0m\n\u001b[0;32m--> 395\u001b[0;31m         load_contents=True)\n\u001b[0m\u001b[1;32m    396\u001b[0m     \u001b[0;32mif\u001b[0m \u001b[0minputs\u001b[0m\u001b[0;34m:\u001b[0m\u001b[0;34m\u001b[0m\u001b[0;34m\u001b[0m\u001b[0m\n\u001b[1;32m    397\u001b[0m       \u001b[0mreq\u001b[0m\u001b[0;34m.\u001b[0m\u001b[0minput\u001b[0m\u001b[0;34m.\u001b[0m\u001b[0mextend\u001b[0m\u001b[0;34m(\u001b[0m\u001b[0minputs\u001b[0m\u001b[0;34m)\u001b[0m\u001b[0;34m\u001b[0m\u001b[0;34m\u001b[0m\u001b[0m\n",
      "\u001b[0;32m/opt/conda/lib/python3.7/site-packages/wstl/magics/_location.py\u001b[0m in \u001b[0;36mparse_location\u001b[0;34m(shell, input_wstl_arg, file_ext, load_contents)\u001b[0m\n\u001b[1;32m     51\u001b[0m   \"\"\"\n\u001b[1;32m     52\u001b[0m   (inputs, gcs_paths) = _parser.parse_object(\n\u001b[0;32m---> 53\u001b[0;31m       shell, input_wstl_arg, file_ext=file_ext, load_contents=load_contents)\n\u001b[0m\u001b[1;32m     54\u001b[0m   \u001b[0;32mif\u001b[0m \u001b[0minput_wstl_arg\u001b[0m\u001b[0;34m.\u001b[0m\u001b[0mstartswith\u001b[0m\u001b[0;34m(\u001b[0m\u001b[0m_constants\u001b[0m\u001b[0;34m.\u001b[0m\u001b[0mJSON_ARG_PREFIX\u001b[0m\u001b[0;34m)\u001b[0m \u001b[0;32mor\u001b[0m\u001b[0;31m \u001b[0m\u001b[0;31m\\\u001b[0m\u001b[0;34m\u001b[0m\u001b[0;34m\u001b[0m\u001b[0m\n\u001b[1;32m     55\u001b[0m       \u001b[0minput_wstl_arg\u001b[0m\u001b[0;34m.\u001b[0m\u001b[0mstartswith\u001b[0m\u001b[0;34m(\u001b[0m\u001b[0m_constants\u001b[0m\u001b[0;34m.\u001b[0m\u001b[0mPYTHON_ARG_PREFIX\u001b[0m\u001b[0;34m)\u001b[0m \u001b[0;32mor\u001b[0m\u001b[0;31m \u001b[0m\u001b[0;31m\\\u001b[0m\u001b[0;34m\u001b[0m\u001b[0;34m\u001b[0m\u001b[0m\n",
      "\u001b[0;32m/opt/conda/lib/python3.7/site-packages/wstl/magics/_parser.py\u001b[0m in \u001b[0;36mparse_object\u001b[0;34m(shell, input_object_arg, file_ext, load_contents)\u001b[0m\n\u001b[1;32m    213\u001b[0m     \u001b[0mvar_name\u001b[0m \u001b[0;34m=\u001b[0m \u001b[0minput_object_arg\u001b[0m\u001b[0;34m[\u001b[0m\u001b[0moffset\u001b[0m\u001b[0;34m:\u001b[0m\u001b[0;34m]\u001b[0m\u001b[0;34m\u001b[0m\u001b[0;34m\u001b[0m\u001b[0m\n\u001b[1;32m    214\u001b[0m     \u001b[0;32mif\u001b[0m \u001b[0mvar_name\u001b[0m \u001b[0;32mnot\u001b[0m \u001b[0;32min\u001b[0m \u001b[0mshell\u001b[0m\u001b[0;34m.\u001b[0m\u001b[0muser_ns\u001b[0m\u001b[0;34m:\u001b[0m\u001b[0;34m\u001b[0m\u001b[0;34m\u001b[0m\u001b[0m\n\u001b[0;32m--> 215\u001b[0;31m       \u001b[0;32mraise\u001b[0m \u001b[0mValueError\u001b[0m\u001b[0;34m(\u001b[0m\u001b[0;34m\"There is no python variable named {}\"\u001b[0m\u001b[0;34m.\u001b[0m\u001b[0mformat\u001b[0m\u001b[0;34m(\u001b[0m\u001b[0mvar_name\u001b[0m\u001b[0;34m)\u001b[0m\u001b[0;34m)\u001b[0m\u001b[0;34m\u001b[0m\u001b[0;34m\u001b[0m\u001b[0m\n\u001b[0m\u001b[1;32m    216\u001b[0m     \u001b[0;31m# Only supports json as UTF-8 string not byte array.\u001b[0m\u001b[0;34m\u001b[0m\u001b[0;34m\u001b[0m\u001b[0;34m\u001b[0m\u001b[0m\n\u001b[1;32m    217\u001b[0m     \u001b[0;32mreturn\u001b[0m \u001b[0;34m[\u001b[0m\u001b[0m_serialize_to_json\u001b[0m\u001b[0;34m(\u001b[0m\u001b[0mshell\u001b[0m\u001b[0;34m.\u001b[0m\u001b[0muser_ns\u001b[0m\u001b[0;34m[\u001b[0m\u001b[0mvar_name\u001b[0m\u001b[0;34m]\u001b[0m\u001b[0;34m)\u001b[0m\u001b[0;34m]\u001b[0m\u001b[0;34m,\u001b[0m \u001b[0;32mNone\u001b[0m\u001b[0;34m\u001b[0m\u001b[0;34m\u001b[0m\u001b[0m\n",
      "\u001b[0;31mValueError\u001b[0m: There is no python variable named parsed_message"
     ]
    }
   ],
   "source": [
    "%%wstl --output resources --input py://parsed_message --library_config file://~/mapping_configs/hl7v2_fhir_stu3/projector_library/*.wstl\n",
    "\n",
    "$this : Process_ORU_R01($root.ORU_R01);\n",
    "    \n",
    "// Description: Define HL7v2 (version 2.9) to FHIR STU3 transformation\n",
    "//\n",
    "// Argument(s):\n",
    "//   ORU_R01 HL7v2 Message Type (version 2.9)\n",
    "//   ORU_R01 Segments covered in this mapping configuration are: MSH\n",
    "//\n",
    "// Output(s):\n",
    "//   FHIR STU3 Resources : http://www.hl7.org/fhir/stu3/resourcelist.html\n",
    "// List of Generated FHIR Resources:\n",
    "//   Bundle: https://www.hl7.org/fhir/stu3/bundle.html\n",
    "\n",
    "def Process_ORU_R01(ORU_R01) {\n",
    "  var MH : MSH_MessageHeader(ORU_R01.MSH);\n",
    "  out Resources : MH;\n",
    "  out Resources : HD_Provenance(ORU_R01.MSH.3, MH);\n",
    "  out Resources : MSH_Bundle(ORU_R01.MSH.10);\n",
    "}"
   ]
  }
 ],
 "metadata": {
  "kernelspec": {
   "display_name": "Python 3",
   "language": "python",
   "name": "python3"
  },
  "language_info": {
   "codemirror_mode": {
    "name": "ipython",
    "version": 3
   },
   "file_extension": ".py",
   "mimetype": "text/x-python",
   "name": "python",
   "nbconvert_exporter": "python",
   "pygments_lexer": "ipython3",
   "version": "3.7.8"
  }
 },
 "nbformat": 4,
 "nbformat_minor": 4
}
